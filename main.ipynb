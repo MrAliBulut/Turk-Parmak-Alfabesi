{
 "cells": [
  {
   "cell_type": "markdown",
   "metadata": {},
   "source": [
    "**Import Necessary Libraries**"
   ]
  },
  {
   "cell_type": "code",
   "execution_count": 1,
   "metadata": {},
   "outputs": [],
   "source": [
    "#cv2\n",
    "import cv2\n",
    "import matplotlib.pyplot as plt\n",
    "import numpy as np\n",
    "#cvzone\n",
    "from cvzone.HandTrackingModule import HandDetector"
   ]
  },
  {
   "cell_type": "markdown",
   "metadata": {},
   "source": [
    "General Variables"
   ]
  },
  {
   "cell_type": "code",
   "execution_count": 2,
   "metadata": {},
   "outputs": [],
   "source": [
    "maxHandCount= 2\n",
    "\n",
    "#Colors for ease of use. Cv2 is BGR formatted\n",
    "black=(0,0,0)\n",
    "blue = (255,0,0)\n",
    "green = (0,255,0)\n",
    "red= (0,0,255)\n",
    "white=(255,255,255)\n",
    "\n",
    "font = cv2.FONT_HERSHEY_SIMPLEX\n"
   ]
  },
  {
   "cell_type": "markdown",
   "metadata": {},
   "source": [
    "Library Variables"
   ]
  },
  {
   "cell_type": "code",
   "execution_count": 3,
   "metadata": {},
   "outputs": [
    {
     "name": "stderr",
     "output_type": "stream",
     "text": [
      "2024-06-03 18:40:54.827 Python[7075:457567] WARNING: AVCaptureDeviceTypeExternal is deprecated for Continuity Cameras. Please use AVCaptureDeviceTypeContinuityCamera and add NSCameraUseContinuityCameraDeviceType to your Info.plist.\n",
      "WARNING: All log messages before absl::InitializeLog() is called are written to STDERR\n",
      "I0000 00:00:1717429256.014147  457567 gl_context.cc:357] GL version: 2.1 (2.1 Metal - 86), renderer: Apple M1\n"
     ]
    }
   ],
   "source": [
    "# Initialize Capture\n",
    "cap = cv2.VideoCapture(1)\n",
    "\n",
    "#Define hand detector\n",
    "detector = HandDetector(maxHands=maxHandCount)"
   ]
  },
  {
   "cell_type": "markdown",
   "metadata": {},
   "source": [
    "Defined Functions"
   ]
  },
  {
   "cell_type": "code",
   "execution_count": 4,
   "metadata": {},
   "outputs": [
    {
     "name": "stderr",
     "output_type": "stream",
     "text": [
      "INFO: Created TensorFlow Lite XNNPACK delegate for CPU.\n"
     ]
    }
   ],
   "source": [
    "def drawHandNames(img,left,right):\n",
    "    centerLeft= left['center']\n",
    "    centerRight= right['center']\n",
    "    cv2.putText(img, left[\"type\"], centerLeft, font, 1, red, 2)\n",
    "    cv2.putText(img, right[\"type\"], centerRight, font, 1, blue, 2)\n",
    "\n",
    "def minMaxControl(value,max,min=0):\n",
    "    if value <= min:\n",
    "        return min\n",
    "    elif value >= max:\n",
    "        return max\n",
    "    else:\n",
    "        return value"
   ]
  },
  {
   "cell_type": "markdown",
   "metadata": {},
   "source": [
    "**Determine Hand Type Functionality**\n",
    "Algoritma kameraya giren elleri farklı algılayabiliyor. Koordinatların doğru tespiti için net bir şekilde sağ ve sol eli bilmem gerekiyor."
   ]
  },
  {
   "cell_type": "code",
   "execution_count": 5,
   "metadata": {},
   "outputs": [
    {
     "name": "stderr",
     "output_type": "stream",
     "text": [
      "W0000 00:00:1717429256.033126  457746 inference_feedback_manager.cc:114] Feedback manager requires a model with a single signature inference. Disabling support for feedback tensors.\n",
      "W0000 00:00:1717429256.041148  457749 inference_feedback_manager.cc:114] Feedback manager requires a model with a single signature inference. Disabling support for feedback tensors.\n"
     ]
    }
   ],
   "source": [
    "def determineHandType(hand1,hand2):\n",
    "    \"\"\"\n",
    "    Returns left and right hand clearly.\n",
    "\n",
    "    Args:\n",
    "        hand1 (dict): hand1 that algorithm caught.\n",
    "        hand2 (dict): hand2 that algorithm caught.\n",
    "\n",
    "    Returns:\n",
    "        dict,dict: left,right hands.\n",
    "    \"\"\"\n",
    "    if hand1[\"type\"]==\"Left\":\n",
    "        left= hand1\n",
    "        right= hand2\n",
    "    else:\n",
    "        left= hand2\n",
    "        right= hand1\n",
    "    return left,right"
   ]
  },
  {
   "cell_type": "markdown",
   "metadata": {},
   "source": [
    "**Check State Functionality**\n",
    "    Sol ve Sağ elin birbirine göre koordinatlarının farklı durumlarını \n",
    "hesaplamamı sağlıyor"
   ]
  },
  {
   "cell_type": "code",
   "execution_count": 6,
   "metadata": {},
   "outputs": [],
   "source": [
    "def checkState(left,right):\n",
    "    \"\"\"\n",
    "    Returns right hands relative location to left hand.\n",
    "\n",
    "    Args:\n",
    "        left (dict): x,y of Left Hand.\n",
    "        right (dict): x,y of Right Hand.\n",
    "\n",
    "    Returns:\n",
    "        string: Relative Location.\n",
    "    \"\"\"\n",
    "    if (right[\"x\"]>left[\"x\"]):\n",
    "        #Right 3 possibility\n",
    "        return \"Right\"+ checkStateY(left,right)\n",
    "    elif (right[\"x\"]<left[\"x\"]):\n",
    "        #Left 3 possibility\n",
    "        return \"Left\"+ checkStateY(left,right)\n",
    "    else:\n",
    "        #Mid 3 possibility\n",
    "        return \"Mid\"+ checkStateY(left,right)\n",
    "\n",
    "def checkStateY(left,right):\n",
    "    \"\"\"\n",
    "    Returns right hands relative Y(vertical) location to left hand.\n",
    "    \n",
    "    Args:\n",
    "        left (dict): x,y of Left Hand.\n",
    "        right (dict): x,y of Right Hand.\n",
    "\n",
    "    Returns:\n",
    "        string: Relative Y Location.\n",
    "    \"\"\"\n",
    "    if (right[\"y\"]<left[\"y\"]):\n",
    "        return \"Up\"\n",
    "    elif (right[\"y\"]>left[\"y\"]):\n",
    "        return \"Down\"\n",
    "    else:\n",
    "        return \"Mid\"\n",
    "    "
   ]
  },
  {
   "cell_type": "markdown",
   "metadata": {},
   "source": [
    "Core Loop"
   ]
  },
  {
   "cell_type": "code",
   "execution_count": 7,
   "metadata": {},
   "outputs": [
    {
     "name": "stderr",
     "output_type": "stream",
     "text": [
      "2024-06-03 18:40:56.194 Python[7075:457567] WARNING: Secure coding is not enabled for restorable state! Enable secure coding by implementing NSApplicationDelegate.applicationSupportsSecureRestorableState: and returning YES.\n",
      "/Library/Frameworks/Python.framework/Versions/3.12/lib/python3.12/site-packages/google/protobuf/symbol_database.py:55: UserWarning: SymbolDatabase.GetPrototype() is deprecated. Please use message_factory.GetMessageClass() instead. SymbolDatabase.GetPrototype() will be removed soon.\n",
      "  warnings.warn('SymbolDatabase.GetPrototype() is deprecated. Please '\n"
     ]
    },
    {
     "ename": "KeyboardInterrupt",
     "evalue": "",
     "output_type": "error",
     "traceback": [
      "\u001b[0;31m---------------------------------------------------------------------------\u001b[0m",
      "\u001b[0;31mKeyboardInterrupt\u001b[0m                         Traceback (most recent call last)",
      "\u001b[1;32m/Users/alibulut/DEV/Turk-Parmak-Alfabesi/main.ipynb Cell 14\u001b[0m line \u001b[0;36m3\n\u001b[1;32m      <a href='vscode-notebook-cell:/Users/alibulut/DEV/Turk-Parmak-Alfabesi/main.ipynb#X16sZmlsZQ%3D%3D?line=0'>1</a>\u001b[0m \u001b[39mwhile\u001b[39;00m \u001b[39mTrue\u001b[39;00m:\n\u001b[1;32m      <a href='vscode-notebook-cell:/Users/alibulut/DEV/Turk-Parmak-Alfabesi/main.ipynb#X16sZmlsZQ%3D%3D?line=1'>2</a>\u001b[0m     \u001b[39m# Kameradan veri oku\u001b[39;00m\n\u001b[0;32m----> <a href='vscode-notebook-cell:/Users/alibulut/DEV/Turk-Parmak-Alfabesi/main.ipynb#X16sZmlsZQ%3D%3D?line=2'>3</a>\u001b[0m     success, img \u001b[39m=\u001b[39m cap\u001b[39m.\u001b[39;49mread()\n\u001b[1;32m      <a href='vscode-notebook-cell:/Users/alibulut/DEV/Turk-Parmak-Alfabesi/main.ipynb#X16sZmlsZQ%3D%3D?line=3'>4</a>\u001b[0m     \u001b[39m# Break if capture fails\u001b[39;00m\n\u001b[1;32m      <a href='vscode-notebook-cell:/Users/alibulut/DEV/Turk-Parmak-Alfabesi/main.ipynb#X16sZmlsZQ%3D%3D?line=4'>5</a>\u001b[0m     \u001b[39mif\u001b[39;00m \u001b[39mnot\u001b[39;00m success:\n",
      "\u001b[0;31mKeyboardInterrupt\u001b[0m: "
     ]
    }
   ],
   "source": [
    "while True:\n",
    "    # Kameradan veri oku\n",
    "    success, img = cap.read()\n",
    "    # Break if capture fails\n",
    "    if not success:\n",
    "        print(\"Couldn't read any data from capture\")\n",
    "        break\n",
    "\n",
    "\n",
    "    maxVertical = img.shape[0]\n",
    "    maxHorizontal = img.shape[1]\n",
    "\n",
    "    # Görüntüde elleri tespit et\n",
    "    hands, img = detector.findHands(img)\n",
    "\n",
    "    if len(hands)==2:\n",
    "        \n",
    "        cv2.putText(img, f\"{maxVertical,maxHorizontal}\", (10, 50), font, 1, green, 2)\n",
    "\n",
    "        #Determine the Hand Types Clearly\n",
    "        left,right = determineHandType(hands[1],hands[0])\n",
    "\n",
    "\n",
    "        x, y, w, h = left[\"bbox\"]\n",
    "        leftCoordinates= {\"x\":x,\"y\":y,\"w\":w,\"h\":h}\n",
    "        x, y, w, h = right[\"bbox\"]\n",
    "        rightCoordinates= {\"x\":x,\"y\":y,\"w\":w,\"h\":h}\n",
    "        # Adjust coordinates to ensure they are non-negative\n",
    "\n",
    "\n",
    "        TopLeftCoordinates = {\"x\":minMaxControl(value=rightCoordinates[\"x\"],max=maxHorizontal),\n",
    "                              \"y\":minMaxControl(value=rightCoordinates[\"y\"],max=maxVertical)}\n",
    "        \n",
    "        BottomRightCoordinates = {\"x\":minMaxControl(value=leftCoordinates[\"x\"]+leftCoordinates[\"w\"],max=maxHorizontal),\n",
    "                                  \"y\":minMaxControl(value=leftCoordinates[\"y\"]+leftCoordinates[\"h\"], max=maxVertical)}\n",
    "        \n",
    "\n",
    "        state=checkState(leftCoordinates,rightCoordinates)\n",
    "        cv2.putText(img,f\"{state}\",(rightCoordinates[\"x\"],rightCoordinates[\"y\"]),font,1,green,2)\n",
    "\n",
    "\n",
    "        ####\n",
    "        ####\n",
    "        ####\n",
    "        ####\n",
    "        #Sol elin sol üst koordinatını \n",
    "        #Sağ elin sağ alt koordinatını almam gerekiyor\n",
    "        #\n",
    "        #Daha dorusu kesit alacağım fotoğrafın en sol üst koordinatını \n",
    "        #ve en sağ alt koordinatını doğru hesaplamam gerekiyor\n",
    "        #\n",
    "        #Bu hesapta \n",
    "        #Sol ve Sağ elin birbirine göre koordinatlarının farklı durumlarınnı \n",
    "        #hesaplamamı gerektiriyor\n",
    "        ####\n",
    "        ####\n",
    "        ####\n",
    "        ####\n",
    "\n",
    "        #leftTop = min(0,yl)\n",
    "        #rightBottom = min(yr + hr, img.shape[0])\n",
    "        #leftLeft = min(0,xl)\n",
    "        #rightRight = min(xr + wr, img.shape[1]) \n",
    "\n",
    "        #cv2.putText(img,f\"{leftCoordinates} coords\",left[\"center\"],font,1,green,2)\n",
    "        #cv2.putText(img,f\"{rightCoordinates} coords\",right[\"center\"],font,1,blue,2)\n",
    "    else:\n",
    "        croppedIMG=img\n",
    "\n",
    "\n",
    "\n",
    "\n",
    "    # Görüntüyü göster\n",
    "    cv2.imshow(\"Camera\", img)\n",
    "\n",
    "    #cv2.imshow(\"Cropped\",croppedIMG)\n",
    "\n",
    "    # Wait for key press for a 1 ms\n",
    "    key = cv2.waitKey(1)\n",
    "    \n",
    "    # If '0' key pressed then break\n",
    "    if key == ord('0'):\n",
    "        break\n",
    "\n",
    "# Release all cameras and destroy openCV windows.\n",
    "cap.release()\n",
    "cap.release()\n",
    "plt.ioff()  # Turn off interactive mode\n",
    "plt.show()"
   ]
  },
  {
   "cell_type": "markdown",
   "metadata": {},
   "source": [
    "        cv2.putText(img,f\"{img.shape}\",(20,50),font,1,white,2)\n",
    "        cv2.putText(img,f\"{xl},{yl},{wl},{hl} coords\",left[\"center\"],font,1,green,2)\n",
    "        cv2.putText(img,f\"{xr},{yr},{wr},{hr} coords\",right[\"center\"],font,1,blue,2)"
   ]
  },
  {
   "cell_type": "markdown",
   "metadata": {},
   "source": [
    "(720,1280,3)"
   ]
  },
  {
   "cell_type": "markdown",
   "metadata": {},
   "source": [
    "        if (TopLeftCoordinates[\"x\"]> BottomRightCoordinates[\"x\"] and\n",
    "            TopLeftCoordinates[\"y\"]> BottomRightCoordinates[\"y\"]):\n",
    "            #Change Coordinates\n",
    "            TopLeftCoordinates[\"x\"] = TopLeftCoordinates[\"x\"] + rightCoordinates[\"w\"]\n",
    "            TopLeftCoordinates[\"y\"] = TopLeftCoordinates[\"y\"] + rightCoordinates[\"h\"]\n",
    "\n",
    "            BottomRightCoordinates[\"x\"] = BottomRightCoordinates[\"x\"] - leftCoordinates[\"w\"]\n",
    "            BottomRightCoordinates[\"y\"] = BottomRightCoordinates[\"y\"] - leftCoordinates[\"h\"]\n",
    "\n",
    "        croppedIMG = img[TopLeftCoordinates[\"y\"]:BottomRightCoordinates[\"y\"],\n",
    "                         TopLeftCoordinates[\"x\"]:BottomRightCoordinates[\"x\"]]"
   ]
  },
  {
   "cell_type": "markdown",
   "metadata": {},
   "source": []
  }
 ],
 "metadata": {
  "kernelspec": {
   "display_name": "Python 3",
   "language": "python",
   "name": "python3"
  },
  "language_info": {
   "codemirror_mode": {
    "name": "ipython",
    "version": 3
   },
   "file_extension": ".py",
   "mimetype": "text/x-python",
   "name": "python",
   "nbconvert_exporter": "python",
   "pygments_lexer": "ipython3",
   "version": "3.12.0"
  }
 },
 "nbformat": 4,
 "nbformat_minor": 2
}
