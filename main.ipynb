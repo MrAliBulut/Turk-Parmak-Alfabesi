{
 "cells": [
  {
   "cell_type": "markdown",
   "metadata": {},
   "source": [
    "**Import Necessary Libraries**"
   ]
  },
  {
   "cell_type": "code",
   "execution_count": null,
   "metadata": {},
   "outputs": [],
   "source": [
    "#cv2\n",
    "import cv2\n",
    "#unused but has potential to be used\n",
    "#import matplotlib.pyplot as plt\n",
    "#import numpy as np\n",
    "\n",
    "#cvzone\n",
    "from cvzone.HandTrackingModule import HandDetector"
   ]
  },
  {
   "cell_type": "markdown",
   "metadata": {},
   "source": [
    "General Variables"
   ]
  },
  {
   "cell_type": "code",
   "execution_count": null,
   "metadata": {},
   "outputs": [],
   "source": [
    "#Maximum Hand number that we want to track.\n",
    "maxHandCount= 2\n",
    "\n",
    "#Colors for ease of use. Cv2 is BGR formatted\n",
    "black=(0,0,0)\n",
    "blue = (255,0,0)\n",
    "green = (0,255,0)\n",
    "red= (0,0,255)\n",
    "white=(255,255,255)\n",
    "\n",
    "#Offset for cropping the image.\n",
    "cropOffSet = 40\n",
    "\n",
    "#Regulary used fonts to spot some features.\n",
    "font = cv2.FONT_HERSHEY_SIMPLEX\n"
   ]
  },
  {
   "cell_type": "markdown",
   "metadata": {},
   "source": [
    "Library Variables"
   ]
  },
  {
   "cell_type": "code",
   "execution_count": null,
   "metadata": {},
   "outputs": [],
   "source": [
    "# Initialize Capture\n",
    "cap = cv2.VideoCapture(1)\n",
    "\n",
    "#Define hand detector\n",
    "detector = HandDetector(maxHands=maxHandCount)"
   ]
  },
  {
   "cell_type": "markdown",
   "metadata": {},
   "source": [
    "Defined Functions"
   ]
  },
  {
   "cell_type": "code",
   "execution_count": null,
   "metadata": {},
   "outputs": [],
   "source": [
    "def drawHandNames(img,left,right):\n",
    "    centerLeft= left['center']\n",
    "    centerRight= right['center']\n",
    "    cv2.putText(img, left[\"type\"], centerLeft, font, 1, red, 2)\n",
    "    cv2.putText(img, right[\"type\"], centerRight, font, 1, blue, 2)\n",
    "\n",
    "def minMaxControl(value,max,min=0):\n",
    "    if value <= min:\n",
    "        return min\n",
    "    elif value >= max:\n",
    "        return max\n",
    "    else:\n",
    "        return value"
   ]
  },
  {
   "cell_type": "markdown",
   "metadata": {},
   "source": [
    "**Determine Hand Type Functionality**\n",
    "Algoritma kameraya giren elleri farklı algılayabiliyor. Koordinatların doğru tespiti için net bir şekilde sağ ve sol eli bilmem gerekiyor."
   ]
  },
  {
   "cell_type": "code",
   "execution_count": null,
   "metadata": {},
   "outputs": [],
   "source": [
    "def determineHandType(hand1,hand2):\n",
    "    \"\"\"\n",
    "    Returns left and right hand clearly.\n",
    "\n",
    "    Args:\n",
    "        hand1 (dict): hand1 that algorithm caught.\n",
    "        hand2 (dict): hand2 that algorithm caught.\n",
    "\n",
    "    Returns:\n",
    "        dict,dict: left,right hands.\n",
    "    \"\"\"\n",
    "    if hand1[\"type\"]==\"Left\":\n",
    "        left= hand1\n",
    "        right= hand2\n",
    "    else:\n",
    "        left= hand2\n",
    "        right= hand1\n",
    "    return left,right"
   ]
  },
  {
   "cell_type": "markdown",
   "metadata": {},
   "source": [
    "**Check State Functionality**\n",
    "    Sol ve Sağ elin birbirine göre koordinatlarının farklı durumlarını \n",
    "hesaplamamı sağlıyor"
   ]
  },
  {
   "cell_type": "code",
   "execution_count": null,
   "metadata": {},
   "outputs": [],
   "source": [
    "def checkState(left,right):\n",
    "    \"\"\"\n",
    "    Returns right hands relative location to left hand.\n",
    "\n",
    "    Args:\n",
    "        left (dict): x,y of Left Hand.\n",
    "        right (dict): x,y of Right Hand.\n",
    "\n",
    "    Returns:\n",
    "        string: Relative Location.\n",
    "    \"\"\"\n",
    "    if (right[\"x\"]>left[\"x\"]):\n",
    "        #Right 3 possibility\n",
    "        return \"Right\"+ checkStateY(left,right)\n",
    "    elif (right[\"x\"]<left[\"x\"]):\n",
    "        #Left 3 possibility\n",
    "        return \"Left\"+ checkStateY(left,right)\n",
    "    else:\n",
    "        #Mid 3 possibility\n",
    "        return \"Mid\"+ checkStateY(left,right)\n",
    "\n",
    "def checkStateY(left,right):\n",
    "    \"\"\"\n",
    "    Returns right hands relative Y(vertical) location to left hand.\n",
    "    \n",
    "    Args:\n",
    "        left (dict): x,y,w,h of Left Hand's bounding box.\n",
    "        right (dict): x,y,w,h of Right Hand's bounding box.\n",
    "        Only X and Y values are used.\n",
    "    Returns:\n",
    "        string: Relative Y Location.\n",
    "    \"\"\"\n",
    "    if (right[\"y\"]<left[\"y\"]):\n",
    "        return \"Up\"\n",
    "    elif (right[\"y\"]>left[\"y\"]):\n",
    "        return \"Down\"\n",
    "    else:\n",
    "        return \"Mid\"\n",
    "\n",
    "def setTopLeft_BottomRight(state,left,right):\n",
    "    \"\"\"\n",
    "    Return TopLeft and BottomRight values according to the position state.\n",
    "    \n",
    "    Args:\n",
    "        left (dict): x,y,w,h of Left Hand's bounding box.\n",
    "        right (dict): x,y,w,h of Right Hand's bounding box.\n",
    "\n",
    "    Returns:\n",
    "        string: Relative Y Location.\n",
    "    \"\"\"\n",
    "    if (state == \"LeftUp\" or state == \"LeftMid\" or state == \"MidUp\" or state == \"MidMid\"):\n",
    "        TopLeft = (right[\"x\"],right[\"y\"])\n",
    "        BottomRight= (left[\"x\"]+left[\"w\"], left[\"y\"]+left[\"h\"])\n",
    "    elif (state == \"RightDown\" or state == \"RightMid\" or state ==\"MidDown\"):\n",
    "        TopLeft = (left[\"x\"],left[\"y\"])\n",
    "        BottomRight= (right[\"x\"]+right[\"w\"], right[\"y\"]+right[\"h\"])\n",
    "    elif (state == \"LeftDown\"):\n",
    "        TopLeft = (right[\"x\"],left[\"y\"])\n",
    "        BottomRight= (left[\"x\"]+left[\"w\"], right[\"y\"]+right[\"h\"])\n",
    "    elif (state == \"RightUp\"):\n",
    "        TopLeft = (left[\"x\"],right[\"y\"])\n",
    "        BottomRight= (right[\"x\"]+right[\"w\"], left[\"y\"]+left[\"h\"])\n",
    "\n",
    "    TopLeft = (TopLeft[0]-cropOffSet,TopLeft[1]-cropOffSet)\n",
    "    BottomRight = (BottomRight[0]+cropOffSet,BottomRight[1]+cropOffSet)\n",
    "    return TopLeft,BottomRight"
   ]
  },
  {
   "cell_type": "markdown",
   "metadata": {},
   "source": [
    "Core Loop"
   ]
  },
  {
   "cell_type": "code",
   "execution_count": null,
   "metadata": {},
   "outputs": [],
   "source": [
    "while True:\n",
    "    # Kameradan veri oku\n",
    "    success, img = cap.read()\n",
    "    # Break if capture fails\n",
    "    if not success:\n",
    "        print(\"Couldn't read any data from capture\")\n",
    "        break\n",
    "\n",
    "\n",
    "    maxVertical = img.shape[0]\n",
    "    maxHorizontal = img.shape[1]\n",
    "\n",
    "    # Görüntüde elleri tespit et\n",
    "    hands, img = detector.findHands(img)\n",
    "\n",
    "    if len(hands)==2:\n",
    "        cv2.putText(img, f\"{maxVertical,maxHorizontal}\", (10, 50), font, 1, green, 2)\n",
    "\n",
    "        #Determine the Hand Types Clearly\n",
    "        left,right = determineHandType(hands[1],hands[0])\n",
    "\n",
    "\n",
    "        x, y, w, h = left[\"bbox\"]\n",
    "        leftCoordinates= {\"x\":x,\"y\":y,\"w\":w,\"h\":h}\n",
    "        x, y, w, h = right[\"bbox\"]\n",
    "        rightCoordinates= {\"x\":x,\"y\":y,\"w\":w,\"h\":h}\n",
    "        # Adjust coordinates to ensure they are non-negative\n",
    "\n",
    "\n",
    "        TopLeftCoordinates = {\"x\":minMaxControl(value=rightCoordinates[\"x\"],max=maxHorizontal),\n",
    "                              \"y\":minMaxControl(value=rightCoordinates[\"y\"],max=maxVertical)}\n",
    "        \n",
    "        BottomRightCoordinates = {\"x\":minMaxControl(value=leftCoordinates[\"x\"]+leftCoordinates[\"w\"],max=maxHorizontal),\n",
    "                                  \"y\":minMaxControl(value=leftCoordinates[\"y\"]+leftCoordinates[\"h\"], max=maxVertical)}\n",
    "        \n",
    "\n",
    "        state=checkState(leftCoordinates,rightCoordinates)\n",
    "        cv2.putText(img,f\"{state}\",(rightCoordinates[\"x\"],rightCoordinates[\"y\"]),font,1,green,2)\n",
    "\n",
    "        TopLeftCoordinates, BottomRightCoordinates = setTopLeft_BottomRight(state,leftCoordinates,rightCoordinates)\n",
    "\n",
    "        cv2.circle(img, TopLeftCoordinates, radius=5, color=white, thickness=-1)\n",
    "        cv2.circle(img, BottomRightCoordinates, radius=5, color=black, thickness=-1)\n",
    "\n",
    "        croppedIMG = img[TopLeftCoordinates[1]:BottomRightCoordinates[1],\n",
    "                         TopLeftCoordinates[0]:BottomRightCoordinates[0]]\n",
    "        \n",
    "\n",
    "        ####\n",
    "        ####\n",
    "        ####\n",
    "        ####\n",
    "        #Şu an 2 boyutlu dikdörtgenlerin birbirine göre durumlarını hesaplayan \n",
    "        #algoritma sayesinde image'ı başarılı bir şekilde kesebiliyoruz.\n",
    "        #\n",
    "        #\n",
    "        #Şimdi ise kestiğimiz bu imageların boyutunu her durumda eşitlememiz gerekiyor.\n",
    "        #Modele verilmeden önce modele vereceğimiz bu verilerin boyutunu aynı ayarlamamız gerek\n",
    "        #\n",
    "        #\n",
    "        #\n",
    "        ####\n",
    "        ####\n",
    "        ####\n",
    "        ####\n",
    "    else:\n",
    "        croppedIMG=img\n",
    "\n",
    "\n",
    "\n",
    "\n",
    "    # Görüntüyü göster\n",
    "    cv2.imshow(\"Camera\", img)\n",
    "    cv2.imshow(\"Cropped\",croppedIMG)\n",
    "\n",
    "    # Wait for key press for a 1 ms\n",
    "    key = cv2.waitKey(1)\n",
    "    \n",
    "    # If '0' key pressed then break\n",
    "    if key == ord('0'):\n",
    "        break\n",
    "\n",
    "# Release all cameras and destroy openCV windows.\n",
    "cap.release()\n",
    "cap.release()"
   ]
  }
 ],
 "metadata": {
  "kernelspec": {
   "display_name": "Python 3",
   "language": "python",
   "name": "python3"
  },
  "language_info": {
   "codemirror_mode": {
    "name": "ipython",
    "version": 3
   },
   "file_extension": ".py",
   "mimetype": "text/x-python",
   "name": "python",
   "nbconvert_exporter": "python",
   "pygments_lexer": "ipython3",
   "version": "3.12.0"
  }
 },
 "nbformat": 4,
 "nbformat_minor": 2
}
